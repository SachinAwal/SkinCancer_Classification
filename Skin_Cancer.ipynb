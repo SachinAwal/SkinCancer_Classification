{
 "cells": [
  {
   "cell_type": "code",
   "execution_count": 1,
   "metadata": {},
   "outputs": [
    {
     "name": "stdout",
     "output_type": "stream",
     "text": [
      "Found 2637 images belonging to 2 classes.\n",
      "Found 660 images belonging to 2 classes.\n"
     ]
    }
   ],
   "source": [
    "import numpy as np\n",
    "from keras.models import Sequential\n",
    "from keras.layers import Activation, Dropout, Flatten, Dense\n",
    "from keras.preprocessing.image import ImageDataGenerator\n",
    "from keras.layers import Conv2D, MaxPooling2D, ZeroPadding2D\n",
    "from keras import regularizers\n",
    "\n",
    "input_shape = (64, 64, 3)\n",
    "img_width = 64\n",
    "img_height = 64\n",
    "\n",
    "nb_train_samples = 2637\n",
    "nb_validation_samples = 660\n",
    "batch_size = 16\n",
    "epochs = 25\n",
    "\n",
    "train_data_dir = 'skin_cancer/train'\n",
    "validation_data_dir = 'skin_cancer/test'\n",
    "\n",
    "datagen = ImageDataGenerator(rescale=1./255,\n",
    "                            shear_range=0.2,       \n",
    "                            zoom_range=0.2,\n",
    "                            rotation_range = 30,\n",
    "                            horizontal_flip=True)\n",
    "\n",
    "train_generator = datagen.flow_from_directory(\n",
    "        train_data_dir,\n",
    "        target_size=(img_width, img_height),\n",
    "        batch_size=batch_size,\n",
    "        class_mode='binary')\n",
    "\n",
    "validation_generator = datagen.flow_from_directory(\n",
    "        validation_data_dir,\n",
    "        target_size=(img_width, img_height),\n",
    "        batch_size=batch_size,\n",
    "        class_mode='binary')"
   ]
  },
  {
   "cell_type": "code",
   "execution_count": 2,
   "metadata": {},
   "outputs": [
    {
     "name": "stdout",
     "output_type": "stream",
     "text": [
      "Model: \"sequential\"\n",
      "_________________________________________________________________\n",
      "Layer (type)                 Output Shape              Param #   \n",
      "=================================================================\n",
      "conv2d (Conv2D)              (None, 64, 64, 32)        896       \n",
      "_________________________________________________________________\n",
      "activation (Activation)      (None, 64, 64, 32)        0         \n",
      "_________________________________________________________________\n",
      "max_pooling2d (MaxPooling2D) (None, 32, 32, 32)        0         \n",
      "_________________________________________________________________\n",
      "conv2d_1 (Conv2D)            (None, 30, 30, 32)        9248      \n",
      "_________________________________________________________________\n",
      "activation_1 (Activation)    (None, 30, 30, 32)        0         \n",
      "_________________________________________________________________\n",
      "max_pooling2d_1 (MaxPooling2 (None, 15, 15, 32)        0         \n",
      "_________________________________________________________________\n",
      "dropout (Dropout)            (None, 15, 15, 32)        0         \n",
      "_________________________________________________________________\n",
      "conv2d_2 (Conv2D)            (None, 15, 15, 64)        18496     \n",
      "_________________________________________________________________\n",
      "activation_2 (Activation)    (None, 15, 15, 64)        0         \n",
      "_________________________________________________________________\n",
      "max_pooling2d_2 (MaxPooling2 (None, 7, 7, 64)          0         \n",
      "_________________________________________________________________\n",
      "conv2d_3 (Conv2D)            (None, 5, 5, 64)          36928     \n",
      "_________________________________________________________________\n",
      "activation_3 (Activation)    (None, 5, 5, 64)          0         \n",
      "_________________________________________________________________\n",
      "max_pooling2d_3 (MaxPooling2 (None, 2, 2, 64)          0         \n",
      "_________________________________________________________________\n",
      "dropout_1 (Dropout)          (None, 2, 2, 64)          0         \n",
      "_________________________________________________________________\n",
      "flatten (Flatten)            (None, 256)               0         \n",
      "_________________________________________________________________\n",
      "dropout_2 (Dropout)          (None, 256)               0         \n",
      "_________________________________________________________________\n",
      "dense (Dense)                (None, 512)               131584    \n",
      "_________________________________________________________________\n",
      "dense_1 (Dense)              (None, 1)                 513       \n",
      "=================================================================\n",
      "Total params: 197,665\n",
      "Trainable params: 197,665\n",
      "Non-trainable params: 0\n",
      "_________________________________________________________________\n"
     ]
    }
   ],
   "source": [
    "model = Sequential()\n",
    "model.add(Conv2D(32, (3,3), input_shape = input_shape, padding = 'same'))\n",
    "model.add(Activation('relu'))\n",
    "model.add(MaxPooling2D(pool_size = (2,2)))\n",
    "\n",
    "model.add(Conv2D(32, (3, 3)))\n",
    "model.add(Activation('relu'))\n",
    "model.add(MaxPooling2D(pool_size=(2, 2)))\n",
    "model.add(Dropout(0.25))\n",
    "\n",
    "model.add(Conv2D(64, (3,3), padding = 'same'))\n",
    "model.add(Activation('relu'))\n",
    "model.add(MaxPooling2D(pool_size = (2,2)))\n",
    "\n",
    "model.add(Conv2D(64, (3, 3)))\n",
    "model.add(Activation('relu'))\n",
    "model.add(MaxPooling2D(pool_size=(2, 2)))\n",
    "model.add(Dropout(0.25))\n",
    "\n",
    "model.add(Flatten())\n",
    "model.add(Dropout(0.5))\n",
    "\n",
    "model.add(Dense(units = 512, activation = 'relu', kernel_regularizer = regularizers.l2(0.01),\n",
    "               bias_regularizer= regularizers.l2(0.01)))\n",
    "model.add(Dense(units=1, activation='sigmoid'))\n",
    "model.summary()"
   ]
  },
  {
   "cell_type": "code",
   "execution_count": 3,
   "metadata": {},
   "outputs": [
    {
     "name": "stdout",
     "output_type": "stream",
     "text": [
      "Epoch 1/25\n",
      "164/164 [==============================] - 21s 117ms/step - loss: 2.0874 - accuracy: 0.5573 - val_loss: 0.5103 - val_accuracy: 0.7607\n",
      "Epoch 2/25\n",
      "164/164 [==============================] - 18s 109ms/step - loss: 0.5365 - accuracy: 0.7575 - val_loss: 0.4869 - val_accuracy: 0.7683\n",
      "Epoch 3/25\n",
      "164/164 [==============================] - 18s 112ms/step - loss: 0.5041 - accuracy: 0.7752 - val_loss: 0.4726 - val_accuracy: 0.7729\n",
      "Epoch 4/25\n",
      "164/164 [==============================] - 18s 112ms/step - loss: 0.4640 - accuracy: 0.7855 - val_loss: 0.4333 - val_accuracy: 0.7835\n",
      "Epoch 5/25\n",
      "164/164 [==============================] - 18s 109ms/step - loss: 0.4774 - accuracy: 0.7875 - val_loss: 0.4932 - val_accuracy: 0.7424\n",
      "Epoch 6/25\n",
      "164/164 [==============================] - 18s 109ms/step - loss: 0.4674 - accuracy: 0.7728 - val_loss: 0.4269 - val_accuracy: 0.8186\n",
      "Epoch 7/25\n",
      "164/164 [==============================] - 18s 110ms/step - loss: 0.4732 - accuracy: 0.7670 - val_loss: 0.4112 - val_accuracy: 0.8018\n",
      "Epoch 8/25\n",
      "164/164 [==============================] - 18s 110ms/step - loss: 0.4108 - accuracy: 0.8050 - val_loss: 0.4398 - val_accuracy: 0.8018\n",
      "Epoch 9/25\n",
      "164/164 [==============================] - 18s 108ms/step - loss: 0.4353 - accuracy: 0.8114 - val_loss: 0.4035 - val_accuracy: 0.8216\n",
      "Epoch 10/25\n",
      "164/164 [==============================] - 18s 109ms/step - loss: 0.4456 - accuracy: 0.7991 - val_loss: 0.4679 - val_accuracy: 0.7591\n",
      "Epoch 11/25\n",
      "164/164 [==============================] - 18s 110ms/step - loss: 0.4477 - accuracy: 0.7976 - val_loss: 0.4168 - val_accuracy: 0.8186\n",
      "Epoch 12/25\n",
      "164/164 [==============================] - 18s 109ms/step - loss: 0.4328 - accuracy: 0.8029 - val_loss: 0.4143 - val_accuracy: 0.8018\n",
      "Epoch 13/25\n",
      "164/164 [==============================] - 18s 111ms/step - loss: 0.4211 - accuracy: 0.8153 - val_loss: 0.4266 - val_accuracy: 0.8003\n",
      "Epoch 14/25\n",
      "164/164 [==============================] - 18s 111ms/step - loss: 0.4230 - accuracy: 0.8066 - val_loss: 0.3801 - val_accuracy: 0.8201\n",
      "Epoch 15/25\n",
      "164/164 [==============================] - 18s 110ms/step - loss: 0.4353 - accuracy: 0.7970 - val_loss: 0.3954 - val_accuracy: 0.8308\n",
      "Epoch 16/25\n",
      "164/164 [==============================] - 18s 111ms/step - loss: 0.4061 - accuracy: 0.8193 - val_loss: 0.4025 - val_accuracy: 0.8110\n",
      "Epoch 17/25\n",
      "164/164 [==============================] - 18s 111ms/step - loss: 0.4240 - accuracy: 0.7983 - val_loss: 0.3769 - val_accuracy: 0.8308\n",
      "Epoch 18/25\n",
      "164/164 [==============================] - 18s 110ms/step - loss: 0.3987 - accuracy: 0.8278 - val_loss: 0.3738 - val_accuracy: 0.8293\n",
      "Epoch 19/25\n",
      "164/164 [==============================] - 18s 110ms/step - loss: 0.4088 - accuracy: 0.7982 - val_loss: 0.3866 - val_accuracy: 0.8308\n",
      "Epoch 20/25\n",
      "164/164 [==============================] - 18s 110ms/step - loss: 0.4182 - accuracy: 0.8162 - val_loss: 0.3908 - val_accuracy: 0.8171\n",
      "Epoch 21/25\n",
      "164/164 [==============================] - 18s 109ms/step - loss: 0.3915 - accuracy: 0.8251 - val_loss: 0.3790 - val_accuracy: 0.8384\n",
      "Epoch 22/25\n",
      "164/164 [==============================] - 18s 108ms/step - loss: 0.4046 - accuracy: 0.8220 - val_loss: 0.4533 - val_accuracy: 0.7790\n",
      "Epoch 23/25\n",
      "164/164 [==============================] - 18s 109ms/step - loss: 0.3948 - accuracy: 0.8199 - val_loss: 0.3883 - val_accuracy: 0.8171\n",
      "Epoch 24/25\n",
      "164/164 [==============================] - 18s 111ms/step - loss: 0.4041 - accuracy: 0.8285 - val_loss: 0.3833 - val_accuracy: 0.8399\n",
      "Epoch 25/25\n",
      "164/164 [==============================] - 19s 113ms/step - loss: 0.3875 - accuracy: 0.8188 - val_loss: 0.3782 - val_accuracy: 0.8216\n"
     ]
    }
   ],
   "source": [
    "model.compile(loss='binary_crossentropy',\n",
    "              optimizer= 'adam',\n",
    "              metrics=['accuracy'])\n",
    "\n",
    "history = model.fit(\n",
    "    train_generator,\n",
    "    steps_per_epoch = nb_train_samples // batch_size,\n",
    "    epochs = epochs,\n",
    "    validation_data = validation_generator,\n",
    "    validation_steps = nb_validation_samples // batch_size)"
   ]
  },
  {
   "cell_type": "code",
   "execution_count": 4,
   "metadata": {},
   "outputs": [
    {
     "data": {
      "image/png": "[encoded data removed]",
      "text/plain": [
       "<Figure size 432x288 with 1 Axes>"
      ]
     },
     "metadata": {
      "needs_background": "light"
     },
     "output_type": "display_data"
    }
   ],
   "source": [
    "# Plotting our loss charts\n",
    "import matplotlib.pyplot as plt\n",
    "\n",
    "history_dict = history.history\n",
    "\n",
    "loss_values = history_dict['loss']\n",
    "val_loss_values = history_dict['val_loss']\n",
    "epochs = range(1, len(loss_values) + 1)\n",
    "\n",
    "line1 = plt.plot(epochs, val_loss_values, label='Validation/Test Loss')\n",
    "line2 = plt.plot(epochs, loss_values, label='Training Loss')\n",
    "plt.xlabel('Epochs') \n",
    "plt.ylabel('Loss')\n",
    "plt.legend()\n",
    "plt.show()"
   ]
  },
  {
   "cell_type": "code",
   "execution_count": 5,
   "metadata": {},
   "outputs": [
    {
     "data": {
      "image/png": "[encoded data removed]",
      "text/plain": [
       "<Figure size 432x288 with 1 Axes>"
      ]
     },
     "metadata": {
      "needs_background": "light"
     },
     "output_type": "display_data"
    }
   ],
   "source": [
    "# Plotting our acuracy charts\n",
    "import matplotlib.pyplot as plt\n",
    "\n",
    "history_dict = history.history\n",
    "\n",
    "loss_values = history_dict['accuracy']\n",
    "val_loss_values = history_dict['val_accuracy']\n",
    "epochs = range(1, len(loss_values) + 1)\n",
    "\n",
    "line1 = plt.plot(epochs, val_loss_values, label='Validation/Test Accuracy')\n",
    "line2 = plt.plot(epochs, loss_values, label='Training Accuracy')\n",
    "plt.xlabel('Epochs') \n",
    "plt.ylabel('Loss')\n",
    "plt.legend()\n",
    "plt.show()"
   ]
  },
  {
   "cell_type": "code",
   "execution_count": 6,
   "metadata": {},
   "outputs": [],
   "source": [
    "model.save('skin_cancer.h5')"
   ]
  },
  {
   "cell_type": "code",
   "execution_count": 20,
   "metadata": {},
   "outputs": [
    {
     "name": "stdout",
     "output_type": "stream",
     "text": [
      "WARNING:tensorflow:11 out of the last 11 calls to <function Model.make_predict_function.<locals>.predict_function at 0x000001241F983E50> triggered tf.function retracing. Tracing is expensive and the excessive number of tracings could be due to (1) creating @tf.function repeatedly in a loop, (2) passing tensors with different shapes, (3) passing Python objects instead of tensors. For (1), please define your @tf.function outside of the loop. For (2), @tf.function has experimental_relax_shapes=True option that relaxes argument shapes that can avoid unnecessary retracing. For (3), please refer to https://www.tensorflow.org/guide/function#controlling_retracing and https://www.tensorflow.org/api_docs/python/tf/function for  more details.\n",
      "ben\n",
      "[[0.]]\n"
     ]
    }
   ],
   "source": [
    "import numpy as np\n",
    "import keras\n",
    "from keras.preprocessing import image\n",
    "from keras.models import load_model\n",
    "\n",
    "classifier = load_model(\"skin_cancer.h5\")\n",
    "test_image = image.load_img('ben1.jpg',target_size = (64,64))\n",
    "\n",
    "\n",
    "test_image = image.img_to_array(test_image)\n",
    "test_image = np.expand_dims(test_image,axis = 0)\n",
    "result = classifier.predict(test_image)\n",
    "\n",
    "if result[0][0]==1:\n",
    "    prediction = 'mel'\n",
    "    print(prediction)\n",
    "elif result[0][0]==0:\n",
    "    prediction='ben'\n",
    "    print(prediction)\n",
    "print(result)"
   ]
  },
  {
   "cell_type": "code",
   "execution_count": null,
   "metadata": {},
   "outputs": [],
   "source": []
  },
  {
   "cell_type": "code",
   "execution_count": null,
   "metadata": {},
   "outputs": [],
   "source": []
  }
 ],
 "metadata": {
  "kernelspec": {
   "display_name": "Python 3",
   "language": "python",
   "name": "python3"
  },
  "language_info": {
   "codemirror_mode": {
    "name": "ipython",
    "version": 3
   },
   "file_extension": ".py",
   "mimetype": "text/x-python",
   "name": "python",
   "nbconvert_exporter": "python",
   "pygments_lexer": "ipython3",
   "version": "3.8.5"
  }
 },
 "nbformat": 4,
 "nbformat_minor": 4
}
